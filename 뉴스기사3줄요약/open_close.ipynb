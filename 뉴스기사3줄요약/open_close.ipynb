{
 "cells": [
  {
   "cell_type": "code",
   "execution_count": 1,
   "metadata": {},
   "outputs": [],
   "source": [
    "#open, close() :파일객체 열고 닫는 함수 열기모드(r :읽기 모드, w:쓰기 모드(처음부터 새로 쓴다), a:추가(뒤에 추가 된다))"
   ]
  },
  {
   "cell_type": "code",
   "execution_count": null,
   "metadata": {},
   "outputs": [],
   "source": [
    "f = open('새파일.txt', 'w')\n",
    "f.close()"
   ]
  },
  {
   "cell_type": "code",
   "execution_count": 2,
   "metadata": {},
   "outputs": [],
   "source": [
    "f = open('새파일.txt', 'w')\n",
    "for i in range(1, 11):\n",
    "    data = '%d번째 줄입니다\\n'% i\n",
    "    f.write(data)\n",
    "f.close()"
   ]
  },
  {
   "cell_type": "code",
   "execution_count": 3,
   "metadata": {},
   "outputs": [
    {
     "name": "stdout",
     "output_type": "stream",
     "text": [
      "1번째 줄입니다\n",
      "\n"
     ]
    }
   ],
   "source": [
    "#한줄 읽기\n",
    "f = open('새파일.txt', 'r')\n",
    "line = f.readline()\n",
    "print(line)\n",
    "f.close()"
   ]
  },
  {
   "cell_type": "code",
   "execution_count": 5,
   "metadata": {},
   "outputs": [
    {
     "name": "stdout",
     "output_type": "stream",
     "text": [
      "1번째 줄입니다\n",
      "\n",
      "2번째 줄입니다\n",
      "\n"
     ]
    }
   ],
   "source": [
    "#여러줄 읽기\n",
    "f = open('새파일.txt', 'r')\n",
    "line = f.readline()\n",
    "print(line)\n",
    "line = f.readline()\n",
    "print(line)\n",
    "f.close()"
   ]
  },
  {
   "cell_type": "code",
   "execution_count": 6,
   "metadata": {},
   "outputs": [
    {
     "name": "stdout",
     "output_type": "stream",
     "text": [
      "1번째 줄입니다\n",
      "\n",
      "2번째 줄입니다\n",
      "\n",
      "3번째 줄입니다\n",
      "\n",
      "4번째 줄입니다\n",
      "\n",
      "5번째 줄입니다\n",
      "\n",
      "6번째 줄입니다\n",
      "\n",
      "7번째 줄입니다\n",
      "\n",
      "8번째 줄입니다\n",
      "\n",
      "9번째 줄입니다\n",
      "\n",
      "10번째 줄입니다\n",
      "\n"
     ]
    }
   ],
   "source": [
    "#모든 줄 읽기\n",
    "f = open('새파일.txt', 'r')\n",
    "lines = f.readlines()\n",
    "for line in lines:\n",
    "    print(line)\n",
    "  \n",
    "f.close()"
   ]
  },
  {
   "cell_type": "code",
   "execution_count": 7,
   "metadata": {},
   "outputs": [],
   "source": [
    "#내용추가하기\n",
    "f = open('새파일.txt', 'w')\n",
    "for i in range(11, 21):\n",
    "    data = '%d번째 줄입니다'%i \n",
    "    f.write(data)\n",
    "\n",
    "f.close()"
   ]
  },
  {
   "cell_type": "code",
   "execution_count": 8,
   "metadata": {},
   "outputs": [
    {
     "name": "stdout",
     "output_type": "stream",
     "text": [
      "11번째 줄입니다12번째 줄입니다13번째 줄입니다14번째 줄입니다15번째 줄입니다16번째 줄입니다17번째 줄입니다18번째 줄입니다19번째 줄입니다20번째 줄입니다\n"
     ]
    }
   ],
   "source": [
    "f = open('새파일.txt', 'r')\n",
    "lines = f.readlines()\n",
    "for line in lines:\n",
    "    print(line)\n",
    "\n",
    "f.close()"
   ]
  },
  {
   "cell_type": "code",
   "execution_count": 9,
   "metadata": {},
   "outputs": [],
   "source": [
    "f = open('새파일.txt', 'a')\n",
    "for i in range(21, 31):\n",
    "    data = '%d번째 줄입니다\\n'%i\n",
    "    f.write(data)\n",
    "\n",
    "f.close()"
   ]
  },
  {
   "cell_type": "code",
   "execution_count": 10,
   "metadata": {},
   "outputs": [
    {
     "name": "stdout",
     "output_type": "stream",
     "text": [
      "11번째 줄입니다12번째 줄입니다13번째 줄입니다14번째 줄입니다15번째 줄입니다16번째 줄입니다17번째 줄입니다18번째 줄입니다19번째 줄입니다20번째 줄입니다21번째 줄입니다\n",
      "\n",
      "22번째 줄입니다\n",
      "\n",
      "23번째 줄입니다\n",
      "\n",
      "24번째 줄입니다\n",
      "\n",
      "25번째 줄입니다\n",
      "\n",
      "26번째 줄입니다\n",
      "\n",
      "27번째 줄입니다\n",
      "\n",
      "28번째 줄입니다\n",
      "\n",
      "29번째 줄입니다\n",
      "\n",
      "30번째 줄입니다\n",
      "\n"
     ]
    }
   ],
   "source": [
    "f = open('새파일.txt', 'r')\n",
    "lines = f.readlines()\n",
    "for line in lines:\n",
    "    print(line)\n",
    "\n",
    "f.close()"
   ]
  },
  {
   "cell_type": "code",
   "execution_count": 11,
   "metadata": {},
   "outputs": [],
   "source": [
    "#with 문 사용\n",
    "#close 를 사용할 필요 없음\n",
    "\n",
    "with open('새파일.txt','w') as f:\n",
    "    for i in range(1, 11):\n",
    "        data = '%d번째 줄입니다\\n'%i\n",
    "        f.write(data)"
   ]
  },
  {
   "cell_type": "code",
   "execution_count": null,
   "metadata": {},
   "outputs": [],
   "source": []
  }
 ],
 "metadata": {
  "kernelspec": {
   "display_name": "Python 3",
   "language": "python",
   "name": "python3"
  },
  "language_info": {
   "codemirror_mode": {
    "name": "ipython",
    "version": 3
   },
   "file_extension": ".py",
   "mimetype": "text/x-python",
   "name": "python",
   "nbconvert_exporter": "python",
   "pygments_lexer": "ipython3",
   "version": "3.8.10"
  },
  "orig_nbformat": 4
 },
 "nbformat": 4,
 "nbformat_minor": 2
}
