{
 "cells": [
  {
   "cell_type": "code",
   "execution_count": 2,
   "metadata": {},
   "outputs": [
    {
     "name": "stdout",
     "output_type": "stream",
     "text": [
      "Collecting gensim==3.7.3\n",
      "  Downloading gensim-3.7.3.tar.gz (23.4 MB)\n",
      "Requirement already satisfied: numpy>=1.11.3 in c:\\users\\eoyeo\\appdata\\local\\programs\\python\\python38\\lib\\site-packages (from gensim==3.7.3) (1.24.4)\n",
      "Requirement already satisfied: scipy>=0.18.1 in c:\\users\\eoyeo\\appdata\\local\\programs\\python\\python38\\lib\\site-packages (from gensim==3.7.3) (1.10.1)\n",
      "Requirement already satisfied: six>=1.5.0 in c:\\users\\eoyeo\\appdata\\roaming\\python\\python38\\site-packages (from gensim==3.7.3) (1.16.0)\n",
      "Collecting smart_open>=1.7.0\n",
      "  Downloading smart_open-6.3.0-py3-none-any.whl (56 kB)\n",
      "Using legacy 'setup.py install' for gensim, since package 'wheel' is not installed.\n",
      "Installing collected packages: smart-open, gensim\n",
      "    Running setup.py install for gensim: started\n",
      "    Running setup.py install for gensim: finished with status 'done'\n",
      "Successfully installed gensim-3.7.3 smart-open-6.3.0\n"
     ]
    },
    {
     "name": "stderr",
     "output_type": "stream",
     "text": [
      "WARNING: You are using pip version 21.1.1; however, version 23.1.2 is available.\n",
      "You should consider upgrading via the 'c:\\users\\eoyeo\\appdata\\local\\programs\\python\\python38\\python.exe -m pip install --upgrade pip' command.\n"
     ]
    }
   ],
   "source": [
    "!pip install gensim==3.7.3"
   ]
  },
  {
   "cell_type": "code",
   "execution_count": 1,
   "metadata": {},
   "outputs": [
    {
     "data": {
      "text/plain": [
       "'\\ngensim :\\n  자연어 처리를 할 때 굉장히 유용한 라이브러리(외부)\\n  자연어 처리, 토픽 모델링에 활발히 사용되는 파이썬 머신러닝 라이브러리\\n  ->Word2Vec 알고리즘을 통한 자연어의 벡터화(Word Embedding)이 대표적\\n  \\n  summarization 내장 모듈로 긴 문장을 요약할 수 있음(*********!!!! <gensim 4.x> 버전부터는 요약기능이 지원되지 않음!!!!!!)\\n  \\n  ****gensim3.7.3버전을 사용****\\n'"
      ]
     },
     "execution_count": 1,
     "metadata": {},
     "output_type": "execute_result"
    }
   ],
   "source": [
    "'''\n",
    "gensim :\n",
    "  자연어 처리를 할 때 굉장히 유용한 라이브러리(외부)\n",
    "  자연어 처리, 토픽 모델링에 활발히 사용되는 파이썬 머신러닝 라이브러리\n",
    "  ->Word2Vec 알고리즘을 통한 자연어의 벡터화(Word Embedding)이 대표적\n",
    "  \n",
    "  summarization 내장 모듈로 긴 문장을 요약할 수 있음(*********!!!! <gensim 4.x> 버전부터는 요약기능이 지원되지 않음!!!!!!)\n",
    "  \n",
    "  ****gensim3.7.3버전을 사용****\n",
    "'''"
   ]
  },
  {
   "cell_type": "code",
   "execution_count": 4,
   "metadata": {},
   "outputs": [
    {
     "data": {
      "text/plain": [
       "'3.7.3'"
      ]
     },
     "execution_count": 4,
     "metadata": {},
     "output_type": "execute_result"
    }
   ],
   "source": [
    "import gensim\n",
    "gensim.__version__"
   ]
  },
  {
   "cell_type": "code",
   "execution_count": 5,
   "metadata": {},
   "outputs": [],
   "source": [
    "#gensim에서 유명한 Word2Vec 를 한 번 사용해 보자/ 학습용 모델은 github에서 받은 것!\n",
    "model = gensim.models.Word2Vec.load('./ko/ko.bin')"
   ]
  },
  {
   "cell_type": "code",
   "execution_count": 6,
   "metadata": {},
   "outputs": [
    {
     "data": {
      "text/plain": [
       "<gensim.models.word2vec.Word2Vec at 0x1fd54d0b8e0>"
      ]
     },
     "execution_count": 6,
     "metadata": {},
     "output_type": "execute_result"
    }
   ],
   "source": [
    "model"
   ]
  },
  {
   "cell_type": "code",
   "execution_count": 7,
   "metadata": {},
   "outputs": [
    {
     "data": {
      "text/plain": [
       "[('리포트', 0.6553797721862793),\n",
       " ('언론사', 0.6399534940719604),\n",
       " ('앵커', 0.637794017791748),\n",
       " ('데일리', 0.6316319704055786),\n",
       " ('일간지', 0.6260204315185547),\n",
       " ('투데이', 0.623687744140625),\n",
       " ('토크쇼', 0.5938538312911987),\n",
       " ('중앙일보', 0.5876286625862122),\n",
       " ('데스크', 0.5873063802719116),\n",
       " ('한겨레', 0.584434986114502)]"
      ]
     },
     "execution_count": 7,
     "metadata": {},
     "output_type": "execute_result"
    }
   ],
   "source": [
    "model.wv.most_similar('뉴스')"
   ]
  },
  {
   "cell_type": "code",
   "execution_count": 8,
   "metadata": {},
   "outputs": [
    {
     "data": {
      "text/plain": [
       "-0.01987284"
      ]
     },
     "execution_count": 8,
     "metadata": {},
     "output_type": "execute_result"
    }
   ],
   "source": [
    "model.wv.similarity('자동차', '강아지')"
   ]
  },
  {
   "cell_type": "code",
   "execution_count": 9,
   "metadata": {},
   "outputs": [
    {
     "data": {
      "text/plain": [
       "0.42055488"
      ]
     },
     "execution_count": 9,
     "metadata": {},
     "output_type": "execute_result"
    }
   ],
   "source": [
    "model.wv.similarity('자동차', '버스')"
   ]
  },
  {
   "cell_type": "code",
   "execution_count": 10,
   "metadata": {},
   "outputs": [],
   "source": [
    "###문서 요약하기\n",
    "from gensim.summarization.summarizer import summarize\n",
    "import pandas as pd\n",
    "import numpy as np"
   ]
  },
  {
   "cell_type": "code",
   "execution_count": 11,
   "metadata": {},
   "outputs": [],
   "source": [
    "df = pd.read_csv('./Book_test.csv')"
   ]
  },
  {
   "cell_type": "code",
   "execution_count": 12,
   "metadata": {},
   "outputs": [],
   "source": [
    "df = df.iloc[:100]\n",
    "df.reset_index(inplace=True)"
   ]
  },
  {
   "cell_type": "code",
   "execution_count": 13,
   "metadata": {},
   "outputs": [
    {
     "data": {
      "text/html": [
       "<div>\n",
       "<style scoped>\n",
       "    .dataframe tbody tr th:only-of-type {\n",
       "        vertical-align: middle;\n",
       "    }\n",
       "\n",
       "    .dataframe tbody tr th {\n",
       "        vertical-align: top;\n",
       "    }\n",
       "\n",
       "    .dataframe thead th {\n",
       "        text-align: right;\n",
       "    }\n",
       "</style>\n",
       "<table border=\"1\" class=\"dataframe\">\n",
       "  <thead>\n",
       "    <tr style=\"text-align: right;\">\n",
       "      <th></th>\n",
       "      <th>index</th>\n",
       "      <th>Unnamed: 0</th>\n",
       "      <th>passage</th>\n",
       "      <th>summary</th>\n",
       "    </tr>\n",
       "  </thead>\n",
       "  <tbody>\n",
       "    <tr>\n",
       "      <th>0</th>\n",
       "      <td>0</td>\n",
       "      <td>0</td>\n",
       "      <td>이 장은 후진타오(호금도) 시대가 어떤 과정을 통해 등장했는가를 검토하는 것이다....</td>\n",
       "      <td>후진타오 시대는 제 3세대 지도자가 물러나며 제 4세대 지도자가 새로운 통치 집단...</td>\n",
       "    </tr>\n",
       "    <tr>\n",
       "      <th>1</th>\n",
       "      <td>1</td>\n",
       "      <td>1</td>\n",
       "      <td>한편 사영기업가의 입당허용이 단기간에 중국정치에 변화를 몰고 올 것 같지는 않다....</td>\n",
       "      <td>사영기업가 계층은 국가의 통제를 아직 벗어나지 못했다는 등의 이유로 단기간에 중국...</td>\n",
       "    </tr>\n",
       "    <tr>\n",
       "      <th>2</th>\n",
       "      <td>2</td>\n",
       "      <td>2</td>\n",
       "      <td>그런데 제 16차 당 대회에서는 민족주의를 강조하는 경향이 이전보다 더욱 두드러졌...</td>\n",
       "      <td>공산당이 국민정당에 대해 민족정당이 된 것, 정치보고에 민족정신 등에 대한 강조가...</td>\n",
       "    </tr>\n",
       "    <tr>\n",
       "      <th>3</th>\n",
       "      <td>3</td>\n",
       "      <td>3</td>\n",
       "      <td>2.3.2 제10기 전국인민대표대회 제 1차 회의(2003년)\\n 2003년 3월 ...</td>\n",
       "      <td>2003년의 10기 전국인대 1차 회의는 주요 국가지도자에 대한 인선이 있었고 공...</td>\n",
       "    </tr>\n",
       "    <tr>\n",
       "      <th>4</th>\n",
       "      <td>4</td>\n",
       "      <td>4</td>\n",
       "      <td>1) 인선에 대한 총괄평가\\n 제 10기 전국인대 제 1차 회의에서 선출(비준)된...</td>\n",
       "      <td>10기 전국인대 1차 회의는 완전하고 실질적인 권력이양이 이루어지지 않았다. 이에...</td>\n",
       "    </tr>\n",
       "  </tbody>\n",
       "</table>\n",
       "</div>"
      ],
      "text/plain": [
       "   index  Unnamed: 0                                            passage  \\\n",
       "0      0           0   이 장은 후진타오(호금도) 시대가 어떤 과정을 통해 등장했는가를 검토하는 것이다....   \n",
       "1      1           1   한편 사영기업가의 입당허용이 단기간에 중국정치에 변화를 몰고 올 것 같지는 않다....   \n",
       "2      2           2   그런데 제 16차 당 대회에서는 민족주의를 강조하는 경향이 이전보다 더욱 두드러졌...   \n",
       "3      3           3  2.3.2 제10기 전국인민대표대회 제 1차 회의(2003년)\\n 2003년 3월 ...   \n",
       "4      4           4   1) 인선에 대한 총괄평가\\n 제 10기 전국인대 제 1차 회의에서 선출(비준)된...   \n",
       "\n",
       "                                             summary  \n",
       "0   후진타오 시대는 제 3세대 지도자가 물러나며 제 4세대 지도자가 새로운 통치 집단...  \n",
       "1   사영기업가 계층은 국가의 통제를 아직 벗어나지 못했다는 등의 이유로 단기간에 중국...  \n",
       "2   공산당이 국민정당에 대해 민족정당이 된 것, 정치보고에 민족정신 등에 대한 강조가...  \n",
       "3   2003년의 10기 전국인대 1차 회의는 주요 국가지도자에 대한 인선이 있었고 공...  \n",
       "4   10기 전국인대 1차 회의는 완전하고 실질적인 권력이양이 이루어지지 않았다. 이에...  "
      ]
     },
     "execution_count": 13,
     "metadata": {},
     "output_type": "execute_result"
    }
   ],
   "source": [
    "df.head()"
   ]
  },
  {
   "cell_type": "code",
   "execution_count": 14,
   "metadata": {},
   "outputs": [
    {
     "data": {
      "text/plain": [
       "' 이 장은 후진타오(호금도) 시대가 어떤 과정을 통해 등장했는가를 검토하는 것이다. 이를 위해 여기서는 2002년 11월 개최된 중국공산당 제 16차 전국대표대회(당 대회)와 2003년 3월 개최된 제 10기 전국인민대표대회(전국인대) 제 1차 회의를 분석할 것이다. 후진타오 시대는 이 두 대회를 시작으로 2004년 9월 공산당 제 16기 중앙위원회 4차 전체회의(4중전회)까지 약 2년의 긴 과정을 거쳐 형성되었다. 우선, 이 기간 동안 장쩌민(장택민), 리펑(이붕), 주룽지(주용기)로 대표되는 제 3세대 지도자가 물러나고, 후진타오, 원자바오(온가보), 쩡칭홍(증경홍)으로 대표되는 제 4세대 지도자가 새로운 통치 집단으로 등장했다. 또한, 이 기간 동안 후진타오 시대의 중국이 실시할 국가정책의 방침과 내용이 서서히 모습을 드러냈다. 따라서 후진타오 시대의 등장과정을 이해하기 위해서는 16차 당 대회와 10기 전국인대 1차 회의에 대한 분석이 필수적이다.\\n 그런데 제 3세대에서 제 4세대로의 권력이양은 결코 순탄하지 않았다. 장쩌민이 2002년 16차 당 대회에서 후진타오에게 총서기직을 물려준 다음에도 2004년 공산당 제 16기 4중전회까지 약 2년 동안 중앙군사위원회 주석직을 유지했다는 사실은 이를 상징적으로 보여준다. 따라서 이 기간은 장쩌민 시대와 후진타오 시대가 공존하는 일종의 과도기라고 할 수 있다. 또한 이 기간은 후진타오와 원자바오가 장쩌민 세력에 맞서 자신의 권력기반을 공고히 하는 한편 장쩌민 시대의 유산을 정리하면서 국민들에게 자신의 새로운 비전을 제시하는 탐색기였다고 말할 수 있다.'"
      ]
     },
     "execution_count": 14,
     "metadata": {},
     "output_type": "execute_result"
    }
   ],
   "source": [
    "df.loc[0, 'passage']"
   ]
  },
  {
   "cell_type": "code",
   "execution_count": 15,
   "metadata": {},
   "outputs": [
    {
     "data": {
      "text/plain": [
       "' 후진타오 시대는 제 3세대 지도자가 물러나며 제 4세대 지도자가 새로운 통치 집단이 되었고 국가정책 방침과 내용이 모습을 드러냈다. 장쩌민이 후진타오에게 총서기직을 물려준 후에도 약 2년 동안 중앙군사위원회 주석직을 유지한 것은 제 3세대에서 제 4세대로의 순탄치 않은 권력이양을 보여준다. 이 시기는 장쩌민 시대와 후진타오 시대가 공존하는 과도기이며 후진타오와 원자바오가 자신의 새로운 비전을 제시하는 탐색기였다.'"
      ]
     },
     "execution_count": 15,
     "metadata": {},
     "output_type": "execute_result"
    }
   ],
   "source": [
    "df.loc[0,'summary']"
   ]
  },
  {
   "cell_type": "code",
   "execution_count": 16,
   "metadata": {},
   "outputs": [
    {
     "data": {
      "text/plain": [
       "'이 장은 후진타오(호금도) 시대가 어떤 과정을 통해 등장했는가를 검토하는 것이다.\\n따라서 이 기간은 장쩌민 시대와 후진타오 시대가 공존하는 일종의 과도기라고 할 수 있다.'"
      ]
     },
     "execution_count": 16,
     "metadata": {},
     "output_type": "execute_result"
    }
   ],
   "source": [
    "#gensim을 이용해 데이터 요약해 보기\n",
    "summarize(df.loc[0,'passage'])"
   ]
  },
  {
   "cell_type": "code",
   "execution_count": 17,
   "metadata": {},
   "outputs": [
    {
     "data": {
      "text/plain": [
       "'이 장은 후진타오(호금도) 시대가 어떤 과정을 통해 등장했는가를 검토하는 것이다.\\n후진타오 시대는 이 두 대회를 시작으로 2004년 9월 공산당 제 16기 중앙위원회 4차 전체회의(4중전회)까지 약 2년의 긴 과정을 거쳐 형성되었다.\\n따라서 후진타오 시대의 등장과정을 이해하기 위해서는 16차 당 대회와 10기 전국인대 1차 회의에 대한 분석이 필수적이다.\\n따라서 이 기간은 장쩌민 시대와 후진타오 시대가 공존하는 일종의 과도기라고 할 수 있다.'"
      ]
     },
     "execution_count": 17,
     "metadata": {},
     "output_type": "execute_result"
    }
   ],
   "source": [
    "#요약 비율 지정해주기\n",
    "summarize(df.loc[0,'passage'], ratio=0.4)"
   ]
  },
  {
   "cell_type": "code",
   "execution_count": 18,
   "metadata": {},
   "outputs": [],
   "source": [
    "df['extract'] = df.passage.apply(lambda x : summarize(x, ratio=0.4))"
   ]
  },
  {
   "cell_type": "code",
   "execution_count": 19,
   "metadata": {},
   "outputs": [
    {
     "data": {
      "text/html": [
       "<div>\n",
       "<style scoped>\n",
       "    .dataframe tbody tr th:only-of-type {\n",
       "        vertical-align: middle;\n",
       "    }\n",
       "\n",
       "    .dataframe tbody tr th {\n",
       "        vertical-align: top;\n",
       "    }\n",
       "\n",
       "    .dataframe thead th {\n",
       "        text-align: right;\n",
       "    }\n",
       "</style>\n",
       "<table border=\"1\" class=\"dataframe\">\n",
       "  <thead>\n",
       "    <tr style=\"text-align: right;\">\n",
       "      <th></th>\n",
       "      <th>index</th>\n",
       "      <th>Unnamed: 0</th>\n",
       "      <th>passage</th>\n",
       "      <th>summary</th>\n",
       "      <th>extract</th>\n",
       "    </tr>\n",
       "  </thead>\n",
       "  <tbody>\n",
       "    <tr>\n",
       "      <th>0</th>\n",
       "      <td>0</td>\n",
       "      <td>0</td>\n",
       "      <td>이 장은 후진타오(호금도) 시대가 어떤 과정을 통해 등장했는가를 검토하는 것이다....</td>\n",
       "      <td>후진타오 시대는 제 3세대 지도자가 물러나며 제 4세대 지도자가 새로운 통치 집단...</td>\n",
       "      <td>이 장은 후진타오(호금도) 시대가 어떤 과정을 통해 등장했는가를 검토하는 것이다.\\...</td>\n",
       "    </tr>\n",
       "    <tr>\n",
       "      <th>1</th>\n",
       "      <td>1</td>\n",
       "      <td>1</td>\n",
       "      <td>한편 사영기업가의 입당허용이 단기간에 중국정치에 변화를 몰고 올 것 같지는 않다....</td>\n",
       "      <td>사영기업가 계층은 국가의 통제를 아직 벗어나지 못했다는 등의 이유로 단기간에 중국...</td>\n",
       "      <td>그러나 장기적으로 볼 때 사영기업가 계층의 정치적 복권은 정치변화와 관련해 큰 의미...</td>\n",
       "    </tr>\n",
       "    <tr>\n",
       "      <th>2</th>\n",
       "      <td>2</td>\n",
       "      <td>2</td>\n",
       "      <td>그런데 제 16차 당 대회에서는 민족주의를 강조하는 경향이 이전보다 더욱 두드러졌...</td>\n",
       "      <td>공산당이 국민정당에 대해 민족정당이 된 것, 정치보고에 민족정신 등에 대한 강조가...</td>\n",
       "      <td>예를 들어, 앞에서 보았듯이 “당헌” 개정에 의해 공산당이 ‘중화민족의 선봉대’로 ...</td>\n",
       "    </tr>\n",
       "    <tr>\n",
       "      <th>3</th>\n",
       "      <td>3</td>\n",
       "      <td>3</td>\n",
       "      <td>2.3.2 제10기 전국인민대표대회 제 1차 회의(2003년)\\n 2003년 3월 ...</td>\n",
       "      <td>2003년의 10기 전국인대 1차 회의는 주요 국가지도자에 대한 인선이 있었고 공...</td>\n",
       "      <td>또한 제 10기 전국인대 첫 번째 회의는 5년 임기의 제 10기 전국인대가 시작하는...</td>\n",
       "    </tr>\n",
       "    <tr>\n",
       "      <th>4</th>\n",
       "      <td>4</td>\n",
       "      <td>4</td>\n",
       "      <td>1) 인선에 대한 총괄평가\\n 제 10기 전국인대 제 1차 회의에서 선출(비준)된...</td>\n",
       "      <td>10기 전국인대 1차 회의는 완전하고 실질적인 권력이양이 이루어지지 않았다. 이에...</td>\n",
       "      <td>우선, 제 10기 전국인대 제 1차 회의에서는 장쩌민으로부터 후진타오로의 실질적이고...</td>\n",
       "    </tr>\n",
       "  </tbody>\n",
       "</table>\n",
       "</div>"
      ],
      "text/plain": [
       "   index  Unnamed: 0                                            passage  \\\n",
       "0      0           0   이 장은 후진타오(호금도) 시대가 어떤 과정을 통해 등장했는가를 검토하는 것이다....   \n",
       "1      1           1   한편 사영기업가의 입당허용이 단기간에 중국정치에 변화를 몰고 올 것 같지는 않다....   \n",
       "2      2           2   그런데 제 16차 당 대회에서는 민족주의를 강조하는 경향이 이전보다 더욱 두드러졌...   \n",
       "3      3           3  2.3.2 제10기 전국인민대표대회 제 1차 회의(2003년)\\n 2003년 3월 ...   \n",
       "4      4           4   1) 인선에 대한 총괄평가\\n 제 10기 전국인대 제 1차 회의에서 선출(비준)된...   \n",
       "\n",
       "                                             summary  \\\n",
       "0   후진타오 시대는 제 3세대 지도자가 물러나며 제 4세대 지도자가 새로운 통치 집단...   \n",
       "1   사영기업가 계층은 국가의 통제를 아직 벗어나지 못했다는 등의 이유로 단기간에 중국...   \n",
       "2   공산당이 국민정당에 대해 민족정당이 된 것, 정치보고에 민족정신 등에 대한 강조가...   \n",
       "3   2003년의 10기 전국인대 1차 회의는 주요 국가지도자에 대한 인선이 있었고 공...   \n",
       "4   10기 전국인대 1차 회의는 완전하고 실질적인 권력이양이 이루어지지 않았다. 이에...   \n",
       "\n",
       "                                             extract  \n",
       "0  이 장은 후진타오(호금도) 시대가 어떤 과정을 통해 등장했는가를 검토하는 것이다.\\...  \n",
       "1  그러나 장기적으로 볼 때 사영기업가 계층의 정치적 복권은 정치변화와 관련해 큰 의미...  \n",
       "2  예를 들어, 앞에서 보았듯이 “당헌” 개정에 의해 공산당이 ‘중화민족의 선봉대’로 ...  \n",
       "3  또한 제 10기 전국인대 첫 번째 회의는 5년 임기의 제 10기 전국인대가 시작하는...  \n",
       "4  우선, 제 10기 전국인대 제 1차 회의에서는 장쩌민으로부터 후진타오로의 실질적이고...  "
      ]
     },
     "execution_count": 19,
     "metadata": {},
     "output_type": "execute_result"
    }
   ],
   "source": [
    "df.head()"
   ]
  },
  {
   "cell_type": "code",
   "execution_count": 24,
   "metadata": {},
   "outputs": [
    {
     "name": "stdout",
     "output_type": "stream",
     "text": [
      "========================================================================================================================\n",
      "81번째 문자\n",
      "\n",
      "원문:\n",
      "\n",
      " 또한 1990년대 이후의 정치개혁 논의에서는 기존 주장에서 벗어나 새로운 프로그램을 모색하려는 시도가 있었다. 판웨이의 자문형법치 국가론과 캉샤오광의 협력주의 국가론은 대표적 예이다. 이 두 주장은 모두 홍콩과 싱가포르의 경험을 근거로 중국의 전통과 서구의 이론을 결합하려고 시도했다는 공통점을 갖는다. 뿐만 아니라 이 두 주장은 모두 서구의 자유인민주주의와 선거에 대해 매우 부정적 태도를 보이고 있다. 대신 이들은 서구이론과 중국현실에 대한 자기 나름의 분석을 토대로 독자적으로 체계적인 정치개혁 구상을 제시하려고 노력했다. 그래서 독창성이라는 점에서 이들의 노력을 높이 평가할 수 있다. 그러나 이들 주장이 갖는 이론적 문제점은 별개로 하더라도 이들이 제시하고 있는 정치개혁 내용은 그동안 중국이 이룩한 정치개혁의 성과를 제대로 반영하지 못할 뿐만 아니라 일부내용은 신권위주의론보다 훨씬 후퇴했다는 문제점을 안는다. 특히 캉샤오광의 복고주의는 정통 맑스-레닌주의 관점에서뿐만 아니라 현대 민주주의 이론에서 보았을 때에도 수용하기 힘든 것이다.\n",
      "\n",
      "\n",
      "AI요약:\n",
      "\n",
      " 캉샤오광의 협력주의 국가론과 판웨이의 자문형법치 국가론은 서구 자유인민주주의와 선거에 부정적 태도를 보였고 독자적으로 체계적인 정치개혁 구상을 제시하고자 노력했다. 하지만 이들의 정치개혁 내용은 중국의 정치개혁 성과를 제대로 반영하지 못했고 신권위주의론보다 후퇴했다는 문제점을 가진다\n",
      "\n",
      "\n",
      "Gensim 요약: \n",
      "\n",
      "이 두 주장은 모두 홍콩과 싱가포르의 경험을 근거로 중국의 전통과 서구의 이론을 결합하려고 시도했다는 공통점을 갖는다.\n",
      "뿐만 아니라 이 두 주장은 모두 서구의 자유인민주주의와 선거에 대해 매우 부정적 태도를 보이고 있다.\n",
      "특히 캉샤오광의 복고주의는 정통 맑스-레닌주의 관점에서뿐만 아니라 현대 민주주의 이론에서 보았을 때에도 수용하기 힘든 것이다.\n",
      "\n",
      "\n"
     ]
    }
   ],
   "source": [
    "#시각화\n",
    "for i in range(0,1):\n",
    "    random_number = np.random.randint(0, 100, size=1)\n",
    "    print('='*120)\n",
    "    print(f'{random_number[0]}'+'번째 문자\\n')\n",
    "    print('원문:\\n\\n'+df['passage'][random_number[0]]+'\\n\\n')\n",
    "    print('AI요약:\\n\\n'+df['summary'][random_number[0]]+'\\n\\n')\n",
    "    print('Gensim 요약: \\n\\n'+df['extract'][random_number[0]]+'\\n\\n')"
   ]
  },
  {
   "cell_type": "code",
   "execution_count": null,
   "metadata": {},
   "outputs": [],
   "source": []
  }
 ],
 "metadata": {
  "kernelspec": {
   "display_name": "Python 3",
   "language": "python",
   "name": "python3"
  },
  "language_info": {
   "codemirror_mode": {
    "name": "ipython",
    "version": 3
   },
   "file_extension": ".py",
   "mimetype": "text/x-python",
   "name": "python",
   "nbconvert_exporter": "python",
   "pygments_lexer": "ipython3",
   "version": "3.8.10"
  },
  "orig_nbformat": 4
 },
 "nbformat": 4,
 "nbformat_minor": 2
}
