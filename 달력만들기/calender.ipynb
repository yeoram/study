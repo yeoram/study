{
 "cells": [
  {
   "cell_type": "code",
   "execution_count": 1,
   "metadata": {},
   "outputs": [
    {
     "data": {
      "text/plain": [
       "'\\n1.윤년 판별 함수\\n2.마지막 날짜 계산\\n3. 지나온 날짜 계산\\n4. 요일 반환\\n5. 달력 확인\\n'"
      ]
     },
     "execution_count": 1,
     "metadata": {},
     "output_type": "execute_result"
    }
   ],
   "source": [
    "'''\n",
    "1.윤년 판별 함수\n",
    "2.마지막 날짜 계산\n",
    "3. 지나온 날짜 계산\n",
    "4. 요일 반환\n",
    "5. 달력 확인\n",
    "'''\n",
    "#import calendar\n",
    "#import datetime"
   ]
  },
  {
   "cell_type": "code",
   "execution_count": 2,
   "metadata": {},
   "outputs": [],
   "source": [
    "def isLeapYear(year):\n",
    "    return year % 4 == 0 and year %100 != 0 or year % 400 == 0"
   ]
  },
  {
   "cell_type": "code",
   "execution_count": 3,
   "metadata": {},
   "outputs": [],
   "source": [
    "def lastDay(year, month):\n",
    "    m = [31, 28, 31, 30, 31, 30, 31, 31, 30, 31, 30, 31]\n",
    "\n",
    "    if isLeapYear(year):\n",
    "        m[1] = 29\n",
    "\n",
    "    return m[month-1]"
   ]
  },
  {
   "cell_type": "code",
   "execution_count": 4,
   "metadata": {},
   "outputs": [],
   "source": [
    "#지나온 날짜 계산  : 년월일을 넘겨받아 1년 1월 1일부터 지난 날짜의 합계를 리턴하는 함수\n",
    "def totalDay(year, month, day):\n",
    "    #1년 1월 1일부터 전 년도 12월 31일까지 지난 날짜를 합산\n",
    "    total = (year-1)*365 + (year-1)//4 - (year-1)//100+(year-1)//400  #((year-1)//4 - (year-1)//100+(year-1)//400) => 윤년이었던 해의 횟수를 구하는 공식이다\n",
    "\n",
    "    #전년도까지 지난 날짜의 합계에 전 달까지 지난 날짜 더하기\n",
    "    for i in range(1, month):\n",
    "        total += lastDay(year, i)  #윤년 확인 포함\n",
    "\n",
    "    return total + day  #전달까지 지난 날짜에 이번 달 날짜를 더해서 리턴"
   ]
  },
  {
   "cell_type": "code",
   "execution_count": 5,
   "metadata": {},
   "outputs": [],
   "source": [
    "#요일 반환 함수\n",
    "def weekDay(year, month, day):\n",
    "    return totalDay(year, month, day) % 7  #지난 날짜의 합계를 7로 나눈 나머지 반환 : 일 0 월 1 화 2 수 3 목 4 금 5 토 6 반환"
   ]
  },
  {
   "cell_type": "code",
   "execution_count": 6,
   "metadata": {},
   "outputs": [
    {
     "name": "stdout",
     "output_type": "stream",
     "text": [
      "============================\n",
      "         2023년 8월\n",
      "============================\n",
      "  일  월  화  수  목  금  토  \n",
      "============================\n",
      "          1   2   3   4   5 \n",
      "  6   7   8   9  10  11  12 \n",
      " 13  14  15  16  17  18  19 \n",
      " 20  21  22  23  24  25  26 \n",
      " 27  28  29  30  31 \n",
      "============================\n"
     ]
    }
   ],
   "source": [
    "if __name__ == '__main__':\n",
    "    year, month = map(int, input('달력을 출력할 년 월을 입력하세요: ').split())\n",
    "    print('='*28)\n",
    "    print('         {0:4d}년{1:2d}월'.format(year, month))\n",
    "    print('='*28)\n",
    "    print('  일  월  화  수  목  금  토  ')\n",
    "    print('='*28)\n",
    "\n",
    "\n",
    "  #1일이 출력될 요일의 위치를 맞추기 위해서 1일의 요일만큼 반복하며 빈칸을 출력\n",
    "    for i in range(weekDay(year, month, 1)):\n",
    "        print('    ', end='')\n",
    "    \n",
    "    #1일부터 달력을 출력할 달의 마지막 날짜까지 반복하며 달력을 출력\n",
    "    for i in range(1, lastDay(year, month)+1):\n",
    "        print(' {0:2d} '.format(i), end='')\n",
    "\n",
    "        #출력한 날짜(i)가 토요일이고 그 달의 마지막 날짜가 아니라면 줄바꿈\n",
    "        if weekDay(year, month, i) == 6 and i != lastDay(year, month):\n",
    "            print()\n",
    "\n",
    "  #달력 하단\n",
    "    print('\\n'+'='*28)"
   ]
  },
  {
   "cell_type": "code",
   "execution_count": null,
   "metadata": {},
   "outputs": [],
   "source": []
  }
 ],
 "metadata": {
  "kernelspec": {
   "display_name": "Python 3",
   "language": "python",
   "name": "python3"
  },
  "language_info": {
   "codemirror_mode": {
    "name": "ipython",
    "version": 3
   },
   "file_extension": ".py",
   "mimetype": "text/x-python",
   "name": "python",
   "nbconvert_exporter": "python",
   "pygments_lexer": "ipython3",
   "version": "3.8.10"
  },
  "orig_nbformat": 4
 },
 "nbformat": 4,
 "nbformat_minor": 2
}
