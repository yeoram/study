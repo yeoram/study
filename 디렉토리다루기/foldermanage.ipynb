{
 "cells": [
  {
   "cell_type": "code",
   "execution_count": 1,
   "metadata": {},
   "outputs": [],
   "source": [
    "trg_path = './sample/'"
   ]
  },
  {
   "cell_type": "code",
   "execution_count": 2,
   "metadata": {},
   "outputs": [],
   "source": [
    "import glob\n",
    "import os\n",
    "\n",
    "zipf_path = []"
   ]
  },
  {
   "cell_type": "code",
   "execution_count": 3,
   "metadata": {},
   "outputs": [
    {
     "name": "stdout",
     "output_type": "stream",
     "text": [
      "['./sample\\\\새파일.zip']\n"
     ]
    }
   ],
   "source": [
    "for filename in glob.glob(os.path.join(trg_path,'**/*.zip'), recursive=True):\n",
    "    zipf_path.append(filename)\n",
    "    print(zipf_path)"
   ]
  },
  {
   "cell_type": "code",
   "execution_count": 4,
   "metadata": {},
   "outputs": [],
   "source": [
    "import zipfile"
   ]
  },
  {
   "cell_type": "code",
   "execution_count": 5,
   "metadata": {},
   "outputs": [],
   "source": [
    "for zipf in zipf_path:\n",
    "    with zipfile.ZipFile(zipf) as myzip:\n",
    "        zipinfo = myzip.infolist()\n",
    "        for info in zipinfo:\n",
    "            decode_name = info.filename  #.encode('cp437').decode('euc-kr') #한글 깨짐 방지\n",
    "            info.filename = os.path.join(trg_path, decode_name)\n",
    "            myzip.extract(info)"
   ]
  },
  {
   "cell_type": "code",
   "execution_count": 7,
   "metadata": {},
   "outputs": [],
   "source": [
    "import openpyxl as op"
   ]
  },
  {
   "cell_type": "code",
   "execution_count": 13,
   "metadata": {},
   "outputs": [],
   "source": [
    "def getFileName(trg_path):\n",
    "    forderlist = os.listdir(trg_path)\n",
    "\n",
    "    wb = op.Workbook()\n",
    "\n",
    "    ws= wb.active\n",
    "\n",
    "    i=2\n",
    "\n",
    "    current_folder = trg_path\n",
    "\n",
    "    filelist= os.listdir(current_folder)\n",
    "\n",
    "    for fname in filelist:\n",
    "        ws.cell(row=i, column=1).value = current_folder + '/'\n",
    "        ws.cell(row=i, column=2).value = fname\n",
    "        i+=1\n",
    "\n",
    "    ws.cell(row=1, column=1).value = '파일경로'\n",
    "    ws.cell(row=1, column=2).value = '파일명(변경전)'\n",
    "    ws.cell(row=1, column=3).value = '파일명(변경후)'\n",
    "\n",
    "    wb.save(os.path.join(trg_path, 'filelist.xlsx'))\n"
   ]
  },
  {
   "cell_type": "code",
   "execution_count": 14,
   "metadata": {},
   "outputs": [],
   "source": [
    "getFileName(trg_path)"
   ]
  },
  {
   "cell_type": "code",
   "execution_count": 15,
   "metadata": {},
   "outputs": [],
   "source": [
    "def excelRead(filepath:str) -> tuple:\n",
    "    wb = op.load_workbook(filepath)\n",
    "\n",
    "    ws = wb.active\n",
    "\n",
    "    folderpath = [r[0].value for r in ws]\n",
    "    file_before = [r[1].value for r in ws]\n",
    "    file_after = [r[2].value for r in ws]\n",
    "\n",
    "    len_num = len(folderpath)\n",
    "    datalist = []\n",
    "    for i in range(1, len_num):\n",
    "        temp_tuple = (folderpath[i], file_before[i], file_after[i])\n",
    "        datalist.append(temp_tuple)\n",
    "\n",
    "    return datalist"
   ]
  },
  {
   "cell_type": "code",
   "execution_count": 16,
   "metadata": {},
   "outputs": [
    {
     "name": "stdout",
     "output_type": "stream",
     "text": [
      "[('./sample//', 'sample', 'sample'), ('./sample//', '새파일.tar', '새파일.tar'), ('./sample//', '새파일.txt', '새파일1.txt'), ('./sample//', '새파일.zip', '새파일.zip'), ('./sample//', '새파일2.txt', '새파일2.txt')]\n"
     ]
    }
   ],
   "source": [
    "rename_list = excelRead(os.path.join(trg_path, 'filelist.xlsx'))\n",
    "print(rename_list)"
   ]
  },
  {
   "cell_type": "code",
   "execution_count": 17,
   "metadata": {},
   "outputs": [],
   "source": [
    "import shutil"
   ]
  },
  {
   "cell_type": "code",
   "execution_count": 24,
   "metadata": {},
   "outputs": [],
   "source": [
    "def fileRename(datalist : list):\n",
    "    for data in datalist:\n",
    "        print(data[1]+'의 파일명을 '+data[2]+'로 변경합니다.')\n",
    "        shutil.move(data[0]+data[1], data[0]+data[2])"
   ]
  },
  {
   "cell_type": "code",
   "execution_count": 25,
   "metadata": {},
   "outputs": [
    {
     "name": "stdout",
     "output_type": "stream",
     "text": [
      "sample의 파일명을 sample로 변경합니다.\n",
      "새파일.tar의 파일명을 새파일.tar로 변경합니다.\n",
      "새파일.txt의 파일명을 새파일1.txt로 변경합니다.\n",
      "새파일.zip의 파일명을 새파일.zip로 변경합니다.\n",
      "새파일2.txt의 파일명을 새파일2.txt로 변경합니다.\n"
     ]
    }
   ],
   "source": [
    "fileRename(rename_list)"
   ]
  },
  {
   "cell_type": "code",
   "execution_count": 26,
   "metadata": {},
   "outputs": [],
   "source": [
    "import fnmatch"
   ]
  },
  {
   "cell_type": "code",
   "execution_count": 45,
   "metadata": {},
   "outputs": [],
   "source": [
    "def categoryList(trg_path:str)->list:\n",
    "    file_list = []\n",
    "    for filename in os.listdir(trg_path):\n",
    "        if fnmatch.fnmatch(filename, '새??_[0-9].*'):\n",
    "            file_list.append(filename)\n",
    "    category = []\n",
    "\n",
    "    for file in file_list:\n",
    "        temp_list = file.split(\"_\")\n",
    "        category.append(temp_list[0])\n",
    "\n",
    "    temp_set = set(category)\n",
    "    result = list(temp_set)\n",
    "\n",
    "    return result"
   ]
  },
  {
   "cell_type": "code",
   "execution_count": 46,
   "metadata": {},
   "outputs": [
    {
     "name": "stdout",
     "output_type": "stream",
     "text": [
      "['새파일', '기타']\n"
     ]
    }
   ],
   "source": [
    "categorylist = categoryList(trg_path)+['기타']\n",
    "print(categorylist)"
   ]
  },
  {
   "cell_type": "code",
   "execution_count": 47,
   "metadata": {},
   "outputs": [],
   "source": [
    "import pathlib"
   ]
  },
  {
   "cell_type": "code",
   "execution_count": 48,
   "metadata": {},
   "outputs": [],
   "source": [
    "clean_path = './clean_folder'\n",
    "def makeFolder(clean_path:str, categorylist:list):\n",
    "    for category in categorylist:\n",
    "        new_folder = pathlib.Path(os.path.join(clean_path, category))\n",
    "        new_folder.mkdir(parents=True, exist_ok=True)"
   ]
  },
  {
   "cell_type": "code",
   "execution_count": 49,
   "metadata": {},
   "outputs": [],
   "source": [
    "makeFolder(clean_path, categorylist)"
   ]
  },
  {
   "cell_type": "code",
   "execution_count": 50,
   "metadata": {},
   "outputs": [],
   "source": [
    "import shutil"
   ]
  },
  {
   "cell_type": "code",
   "execution_count": 53,
   "metadata": {},
   "outputs": [],
   "source": [
    "def moveFile(clean_path, trg_path, categorylist):\n",
    "    folderlist = os.listdir(clean_path)\n",
    "    filelist = os.listdir(trg_path)\n",
    "    categorydict = {}\n",
    "\n",
    "    for file in filelist:\n",
    "        try:\n",
    "            temp_list = file.split('_')\n",
    "            assert temp_list[0] in categorydict\n",
    "            categorydict[file] = temp_list[0]\n",
    "\n",
    "        except:\n",
    "            categorydict[file] = '기타'\n",
    "\n",
    "    for key, value in categorydict.items():\n",
    "        shutil.copy(trg_path+'/'+key, clean_path+'/'+value)"
   ]
  },
  {
   "cell_type": "code",
   "execution_count": 54,
   "metadata": {},
   "outputs": [],
   "source": [
    "moveFile(clean_path, trg_path, categorylist)"
   ]
  },
  {
   "cell_type": "code",
   "execution_count": null,
   "metadata": {},
   "outputs": [],
   "source": []
  }
 ],
 "metadata": {
  "kernelspec": {
   "display_name": "Python 3",
   "language": "python",
   "name": "python3"
  },
  "language_info": {
   "codemirror_mode": {
    "name": "ipython",
    "version": 3
   },
   "file_extension": ".py",
   "mimetype": "text/x-python",
   "name": "python",
   "nbconvert_exporter": "python",
   "pygments_lexer": "ipython3",
   "version": "3.8.10"
  },
  "orig_nbformat": 4
 },
 "nbformat": 4,
 "nbformat_minor": 2
}
