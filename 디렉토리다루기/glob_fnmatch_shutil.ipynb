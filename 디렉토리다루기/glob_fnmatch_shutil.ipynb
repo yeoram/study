{
 "cells": [
  {
   "cell_type": "code",
   "execution_count": 1,
   "metadata": {},
   "outputs": [],
   "source": [
    "#glob : 파일 찾기 (패턴을 이용해서 파일 검색시 유용)\n",
    "import glob\n",
    "import os"
   ]
  },
  {
   "cell_type": "code",
   "execution_count": 2,
   "metadata": {},
   "outputs": [
    {
     "data": {
      "text/plain": [
       "'c:\\\\Users\\\\eoyeo\\\\Desktop\\\\패스트캠퍼스-파이썬\\\\디렉토리다루기'"
      ]
     },
     "execution_count": 2,
     "metadata": {},
     "output_type": "execute_result"
    }
   ],
   "source": [
    "os.getcwd()  #현재 디렉토리"
   ]
  },
  {
   "cell_type": "code",
   "execution_count": 4,
   "metadata": {},
   "outputs": [],
   "source": [
    "for filename in glob.glob('*.txt'):  #현재 디렉토리에서 txt파일 찾기\n",
    "    print(filename)"
   ]
  },
  {
   "cell_type": "code",
   "execution_count": 5,
   "metadata": {},
   "outputs": [
    {
     "name": "stdout",
     "output_type": "stream",
     "text": [
      "sample\\새파일.txt\n",
      "sample\\새파일2.txt\n"
     ]
    }
   ],
   "source": [
    "for filename in glob.glob('**/*.txt'):  #하위 경로에서 txt 파일 찾기(던, 현재 폴더에서는 검색하지 않는다)\n",
    "    print(filename)"
   ]
  },
  {
   "cell_type": "code",
   "execution_count": 6,
   "metadata": {},
   "outputs": [
    {
     "name": "stdout",
     "output_type": "stream",
     "text": [
      "sample\\새파일.txt\n",
      "sample\\새파일2.txt\n"
     ]
    }
   ],
   "source": [
    "for filename in glob.glob('**/*.txt', recursive=True): #recursive=True를 해주면 현재 경로 포함 하위경로에서 파일을 찾는다\n",
    "    print(filename)"
   ]
  },
  {
   "cell_type": "code",
   "execution_count": 7,
   "metadata": {},
   "outputs": [
    {
     "name": "stdout",
     "output_type": "stream",
     "text": [
      "list.pkl\n"
     ]
    }
   ],
   "source": [
    "for filename in glob.glob('????.*', recursive=True):  #제목이 4글자로 된 모든 파일 찾기\n",
    "    print(filename)"
   ]
  },
  {
   "cell_type": "code",
   "execution_count": 8,
   "metadata": {},
   "outputs": [
    {
     "name": "stdout",
     "output_type": "stream",
     "text": [
      "dictionary.pkl\n"
     ]
    }
   ],
   "source": [
    "for filename in glob.glob('??????????.*', recursive=True): #제목이 10글자인 모든 파일 찾기\n",
    "    print(filename)"
   ]
  },
  {
   "cell_type": "code",
   "execution_count": 9,
   "metadata": {},
   "outputs": [
    {
     "name": "stdout",
     "output_type": "stream",
     "text": [
      "list.pkl\n"
     ]
    }
   ],
   "source": [
    "for filename in glob.glob(\"**/[a-z][a-z][a-z][a-z].*\", recursive=True): #알파벳으로만 이루어진 4글자 제목의 파일을 찾아라\n",
    "    print(filename)"
   ]
  },
  {
   "cell_type": "code",
   "execution_count": 10,
   "metadata": {},
   "outputs": [
    {
     "name": "stdout",
     "output_type": "stream",
     "text": [
      "sample\\새파일.txt\n",
      "sample\\새파일2.txt\n"
     ]
    }
   ],
   "source": [
    "for filename in glob.glob('**/새파일*.*', recursive=True): #새파일이 앞에 들어가는 제목의 파일을 찾아라\n",
    "    print(filename)"
   ]
  },
  {
   "cell_type": "code",
   "execution_count": 11,
   "metadata": {},
   "outputs": [],
   "source": [
    "for filename in glob.glob('**/*프로젝트*.*', recursive=True): #프로젝트라는 단어가 파일명 중간에 들어간 파일 찾기\n",
    "    print(filename)"
   ]
  },
  {
   "cell_type": "code",
   "execution_count": 12,
   "metadata": {},
   "outputs": [],
   "source": [
    "#fnmatch : 특정한 패턴을 따르는 파일명을 찾아주는 모듈, True/False로 반환 os.listdir()함수와 함께 사용하는 것이 좋다\n",
    "import fnmatch"
   ]
  },
  {
   "cell_type": "code",
   "execution_count": 13,
   "metadata": {},
   "outputs": [
    {
     "name": "stdout",
     "output_type": "stream",
     "text": [
      "새파일2.txt\n"
     ]
    }
   ],
   "source": [
    "#파일 이름이 '새'로 시작하고, 숫자를 포함하는 파일명이 4글자인 txt파일을 찾아라(숫자는 마지막에 온다)\n",
    "\n",
    "for filename in os.listdir('./sample'):\n",
    "    if fnmatch.fnmatch(filename, '새??[0-9].txt'):\n",
    "        print(filename)"
   ]
  },
  {
   "cell_type": "code",
   "execution_count": 14,
   "metadata": {},
   "outputs": [],
   "source": [
    "#shutill : 파일을 복사하거나 이동할 때 사용\n",
    "import shutil"
   ]
  },
  {
   "cell_type": "code",
   "execution_count": 15,
   "metadata": {},
   "outputs": [
    {
     "data": {
      "text/plain": [
       "'./sample/새파일_복사본.txt'"
      ]
     },
     "execution_count": 15,
     "metadata": {},
     "output_type": "execute_result"
    }
   ],
   "source": [
    "shutil.copy('./sample/새파일.txt', './sample/새파일_복사본.txt')"
   ]
  },
  {
   "cell_type": "code",
   "execution_count": 16,
   "metadata": {},
   "outputs": [
    {
     "data": {
      "text/plain": [
       "'./sample/새파일_복사본_메타.txt'"
      ]
     },
     "execution_count": 16,
     "metadata": {},
     "output_type": "execute_result"
    }
   ],
   "source": [
    "# 메타 정보 복사는 파일의 실제 내용뿐 아니라 파일의 생성정보나 수정한 날짜 이런 메타 정보까지 복사\n",
    "shutil.copy2('./sample/새파일.txt', './sample/새파일_복사본_메타.txt') "
   ]
  },
  {
   "cell_type": "code",
   "execution_count": 17,
   "metadata": {},
   "outputs": [
    {
     "data": {
      "text/plain": [
       "'./sample/새파일_복사본.py'"
      ]
     },
     "execution_count": 17,
     "metadata": {},
     "output_type": "execute_result"
    }
   ],
   "source": [
    "#move는 이동시키는 함수이지만 경로를 같이 주면 확장자를 변경하는 식으로 응용하여 사용할 수 있다\n",
    "shutil.move('./sample/새파일_복사본.txt', './sample/새파일_복사본.py')"
   ]
  },
  {
   "cell_type": "code",
   "execution_count": 18,
   "metadata": {},
   "outputs": [
    {
     "data": {
      "text/plain": [
       "'./sample/새파일_복사본.txt'"
      ]
     },
     "execution_count": 18,
     "metadata": {},
     "output_type": "execute_result"
    }
   ],
   "source": [
    "shutil.move('./sample/새파일_복사본.py', './sample/새파일_복사본.txt')"
   ]
  },
  {
   "cell_type": "code",
   "execution_count": 19,
   "metadata": {},
   "outputs": [
    {
     "data": {
      "text/plain": [
       "'새파일_복사본_메타.txt'"
      ]
     },
     "execution_count": 19,
     "metadata": {},
     "output_type": "execute_result"
    }
   ],
   "source": [
    "#파일 이동하기\n",
    "shutil.move('./sample/새파일_복사본.txt','새파일_복사본.txt')\n",
    "shutil.move('./sample/새파일_복사본_메타.txt', '새파일_복사본_메타.txt')"
   ]
  },
  {
   "cell_type": "code",
   "execution_count": null,
   "metadata": {},
   "outputs": [],
   "source": []
  }
 ],
 "metadata": {
  "kernelspec": {
   "display_name": "Python 3",
   "language": "python",
   "name": "python3"
  },
  "language_info": {
   "codemirror_mode": {
    "name": "ipython",
    "version": 3
   },
   "file_extension": ".py",
   "mimetype": "text/x-python",
   "name": "python",
   "nbconvert_exporter": "python",
   "pygments_lexer": "ipython3",
   "version": "3.11.3"
  },
  "orig_nbformat": 4
 },
 "nbformat": 4,
 "nbformat_minor": 2
}
