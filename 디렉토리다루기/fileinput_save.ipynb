{
 "cells": [
  {
   "cell_type": "code",
   "execution_count": 1,
   "metadata": {},
   "outputs": [],
   "source": [
    "#fileinput: 덱스트 파일을 읽고쓰고 저장하기 더 편하다. \n",
    "#            여러 개의 파일을 읽어서 수정할 수 있다. inplace editing 기능을 사용하면 open, close보다 수정이 간편하고 직관적이다\n",
    "import fileinput\n",
    "import glob #파일을 확인하는데 사용\n",
    "import os"
   ]
  },
  {
   "cell_type": "code",
   "execution_count": 2,
   "metadata": {},
   "outputs": [
    {
     "data": {
      "text/plain": [
       "'c:\\\\Users\\\\eoyeo\\\\Desktop\\\\패스트캠퍼스-파이썬\\\\디렉토리다루기'"
      ]
     },
     "execution_count": 2,
     "metadata": {},
     "output_type": "execute_result"
    }
   ],
   "source": [
    "os.getcwd() #현재 경로 확인"
   ]
  },
  {
   "cell_type": "code",
   "execution_count": 3,
   "metadata": {},
   "outputs": [],
   "source": [
    "path = 'sample/'"
   ]
  },
  {
   "cell_type": "code",
   "execution_count": 4,
   "metadata": {},
   "outputs": [
    {
     "data": {
      "text/plain": [
       "['sample\\\\새파일.txt', 'sample\\\\새파일2.txt']"
      ]
     },
     "execution_count": 4,
     "metadata": {},
     "output_type": "execute_result"
    }
   ],
   "source": [
    "glob.glob(os.path.join(path,'*.txt'))"
   ]
  },
  {
   "cell_type": "code",
   "execution_count": 6,
   "metadata": {},
   "outputs": [
    {
     "name": "stdout",
     "output_type": "stream",
     "text": [
      "1번째 줄입니다\n",
      "\n",
      "2번째 줄입니다\n",
      "\n",
      "3번째 줄입니다\n",
      "\n",
      "4번째 줄입니다\n",
      "\n",
      "5번째 줄입니다\n",
      "6번째 줄입니다\n",
      "\n",
      "7번째 줄입니다\n",
      "\n",
      "8번째 줄입니다\n"
     ]
    }
   ],
   "source": [
    "#3.11버전 이상에서만 encoding을 넣을 수 있음. 이전 버전에서 한글 파일을 읽으려고 하니까 error가 남\n",
    "with fileinput.input(glob.glob(os.path.join(path, '*.txt')), encoding='UTF-8') as f:   \n",
    "    for line in f:\n",
    "        print(line)"
   ]
  },
  {
   "cell_type": "code",
   "execution_count": 10,
   "metadata": {},
   "outputs": [],
   "source": [
    "txt_files = glob.glob(os.path.join(path, '*.txt'))"
   ]
  },
  {
   "cell_type": "code",
   "execution_count": 11,
   "metadata": {},
   "outputs": [
    {
     "data": {
      "text/plain": [
       "['sample\\\\새파일.txt', 'sample\\\\새파일2.txt']"
      ]
     },
     "execution_count": 11,
     "metadata": {},
     "output_type": "execute_result"
    }
   ],
   "source": [
    "txt_files"
   ]
  },
  {
   "cell_type": "code",
   "execution_count": 12,
   "metadata": {},
   "outputs": [],
   "source": [
    "#각 파일의 첫번째 줄만 수정\n",
    "with fileinput.input(txt_files, inplace=True, encoding='UTF-8') as f:\n",
    "    for line in f:\n",
    "        if f.isfirstline():\n",
    "            print('첫번째 줄입니다.', end='\\n')  #화면에 출력이 아니라 파일에 write된다\n",
    "        else:\n",
    "            print(line, end='')"
   ]
  },
  {
   "cell_type": "code",
   "execution_count": 13,
   "metadata": {},
   "outputs": [],
   "source": [
    "with fileinput.input(txt_files, inplace=True, encoding='UTF-8') as f:\n",
    "    for line in f:\n",
    "        if line == '첫번째 줄입니다.\\n':\n",
    "            print('1번째 줄입니다.', end='\\n')\n",
    "        else:\n",
    "            print(line, end='')"
   ]
  },
  {
   "cell_type": "code",
   "execution_count": 14,
   "metadata": {},
   "outputs": [],
   "source": [
    "with fileinput.input(txt_files, inplace=True, encoding='utf-8') as f:\n",
    "    for line in f:\n",
    "        if '3번째' in line:\n",
    "            print('세번째 줄입니다.', end='\\n')\n",
    "        else:\n",
    "            print(line, end='')"
   ]
  },
  {
   "cell_type": "code",
   "execution_count": 15,
   "metadata": {},
   "outputs": [],
   "source": [
    "with fileinput.input(txt_files, inplace=True, encoding='utf-8') as f:\n",
    "    for line in f:\n",
    "        if '세번째' in line:\n",
    "            print(line.replace('세번째', '3번째'), end='') #단어만 바꾸어준다\n",
    "        else:\n",
    "            print(line, end='')"
   ]
  },
  {
   "cell_type": "code",
   "execution_count": 16,
   "metadata": {},
   "outputs": [],
   "source": [
    "#pickle : 딕셔너리, 리스트 클래스 등의 자료형을 변환 없이 그대로 파일로 저장하고 불러올 때 사용\n",
    "import pickle"
   ]
  },
  {
   "cell_type": "code",
   "execution_count": 17,
   "metadata": {},
   "outputs": [],
   "source": [
    "data = ['A', 'B', 'C']"
   ]
  },
  {
   "cell_type": "code",
   "execution_count": 18,
   "metadata": {},
   "outputs": [],
   "source": [
    "with open('list.pkl', 'wb') as f:\n",
    "    pickle.dump(data, f)"
   ]
  },
  {
   "cell_type": "code",
   "execution_count": 19,
   "metadata": {},
   "outputs": [],
   "source": [
    "with open('list.pkl', 'rb') as f:\n",
    "    data = pickle.load(f)"
   ]
  },
  {
   "cell_type": "code",
   "execution_count": 20,
   "metadata": {},
   "outputs": [
    {
     "data": {
      "text/plain": [
       "list"
      ]
     },
     "execution_count": 20,
     "metadata": {},
     "output_type": "execute_result"
    }
   ],
   "source": [
    "type(data)"
   ]
  },
  {
   "cell_type": "code",
   "execution_count": 21,
   "metadata": {},
   "outputs": [
    {
     "data": {
      "text/plain": [
       "['A', 'B', 'C']"
      ]
     },
     "execution_count": 21,
     "metadata": {},
     "output_type": "execute_result"
    }
   ],
   "source": [
    "data"
   ]
  },
  {
   "cell_type": "code",
   "execution_count": 22,
   "metadata": {},
   "outputs": [],
   "source": [
    "data = {}\n",
    "data[1] = {'no':1, 'subject':'안녕 피클', 'content':'피클은 매우 간단합니다'}"
   ]
  },
  {
   "cell_type": "code",
   "execution_count": 23,
   "metadata": {},
   "outputs": [],
   "source": [
    "with open('dictionary.pkl', 'wb') as f:\n",
    "    pickle.dump(data, f)"
   ]
  },
  {
   "cell_type": "code",
   "execution_count": 25,
   "metadata": {},
   "outputs": [],
   "source": [
    "with open('dictionary.pkl', 'rb') as f:\n",
    "    data = pickle.load(f)"
   ]
  },
  {
   "cell_type": "code",
   "execution_count": 26,
   "metadata": {},
   "outputs": [
    {
     "data": {
      "text/plain": [
       "dict"
      ]
     },
     "execution_count": 26,
     "metadata": {},
     "output_type": "execute_result"
    }
   ],
   "source": [
    "type(data)"
   ]
  },
  {
   "cell_type": "code",
   "execution_count": 27,
   "metadata": {},
   "outputs": [
    {
     "data": {
      "text/plain": [
       "{1: {'no': 1, 'subject': '안녕 피클', 'content': '피클은 매우 간단합니다'}}"
      ]
     },
     "execution_count": 27,
     "metadata": {},
     "output_type": "execute_result"
    }
   ],
   "source": [
    "data"
   ]
  },
  {
   "cell_type": "code",
   "execution_count": null,
   "metadata": {},
   "outputs": [],
   "source": []
  }
 ],
 "metadata": {
  "kernelspec": {
   "display_name": "Python 3",
   "language": "python",
   "name": "python3"
  },
  "language_info": {
   "codemirror_mode": {
    "name": "ipython",
    "version": 3
   },
   "file_extension": ".py",
   "mimetype": "text/x-python",
   "name": "python",
   "nbconvert_exporter": "python",
   "pygments_lexer": "ipython3",
   "version": "3.11.3"
  },
  "orig_nbformat": 4
 },
 "nbformat": 4,
 "nbformat_minor": 2
}
