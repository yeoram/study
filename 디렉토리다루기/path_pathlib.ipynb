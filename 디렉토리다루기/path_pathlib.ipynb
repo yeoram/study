{
 "cells": [
  {
   "cell_type": "code",
   "execution_count": 1,
   "metadata": {},
   "outputs": [],
   "source": [
    "#디렉토리 다루기 : os.path(경로를 문자열로 다룰 때 사용), pathlib(경로를 객체형으로 다룰 때 사용, 파이썬 3.4버전 이후부터 지원)\n",
    "import os\n",
    "import pathlib"
   ]
  },
  {
   "cell_type": "code",
   "execution_count": 2,
   "metadata": {},
   "outputs": [
    {
     "name": "stdout",
     "output_type": "stream",
     "text": [
      "c:\\Users\\eoyeo\\Desktop\\패스트캠퍼스-파이썬\\디렉토리다루기\n"
     ]
    }
   ],
   "source": [
    "print(os.getcwd())  #현재 경로 출력"
   ]
  },
  {
   "cell_type": "code",
   "execution_count": 3,
   "metadata": {},
   "outputs": [
    {
     "name": "stdout",
     "output_type": "stream",
     "text": [
      "c:\\Users\\eoyeo\\Desktop\\패스트캠퍼스-파이썬\\디렉토리다루기\n"
     ]
    }
   ],
   "source": [
    "print(pathlib.Path.cwd())  #pathlib으로 현재 디렉토리 출력"
   ]
  },
  {
   "cell_type": "code",
   "execution_count": 6,
   "metadata": {},
   "outputs": [],
   "source": [
    "dir_file = r'C:\\Users\\eoyeo\\Desktop\\패스트캠퍼스-파이썬'"
   ]
  },
  {
   "cell_type": "code",
   "execution_count": 7,
   "metadata": {},
   "outputs": [
    {
     "name": "stdout",
     "output_type": "stream",
     "text": [
      "True\n"
     ]
    }
   ],
   "source": [
    "print(os.path.exists(dir_file)) #경로가 있는지 확인"
   ]
  },
  {
   "cell_type": "code",
   "execution_count": 8,
   "metadata": {},
   "outputs": [
    {
     "ename": "AttributeError",
     "evalue": "'str' object has no attribute 'stat'",
     "output_type": "error",
     "traceback": [
      "\u001b[1;31m---------------------------------------------------------------------------\u001b[0m",
      "\u001b[1;31mAttributeError\u001b[0m                            Traceback (most recent call last)",
      "Cell \u001b[1;32mIn[8], line 1\u001b[0m\n\u001b[1;32m----> 1\u001b[0m \u001b[39mprint\u001b[39m(pathlib\u001b[39m.\u001b[39;49mPath\u001b[39m.\u001b[39;49mexists(dir_file))\n",
      "File \u001b[1;32mc:\\Users\\eoyeo\\AppData\\Local\\Programs\\Python\\Python38\\lib\\pathlib.py:1407\u001b[0m, in \u001b[0;36mPath.exists\u001b[1;34m(self)\u001b[0m\n\u001b[0;32m   1403\u001b[0m \u001b[39m\u001b[39m\u001b[39m\"\"\"\u001b[39;00m\n\u001b[0;32m   1404\u001b[0m \u001b[39mWhether this path exists.\u001b[39;00m\n\u001b[0;32m   1405\u001b[0m \u001b[39m\"\"\"\u001b[39;00m\n\u001b[0;32m   1406\u001b[0m \u001b[39mtry\u001b[39;00m:\n\u001b[1;32m-> 1407\u001b[0m     \u001b[39mself\u001b[39;49m\u001b[39m.\u001b[39;49mstat()\n\u001b[0;32m   1408\u001b[0m \u001b[39mexcept\u001b[39;00m \u001b[39mOSError\u001b[39;00m \u001b[39mas\u001b[39;00m e:\n\u001b[0;32m   1409\u001b[0m     \u001b[39mif\u001b[39;00m \u001b[39mnot\u001b[39;00m _ignore_error(e):\n",
      "\u001b[1;31mAttributeError\u001b[0m: 'str' object has no attribute 'stat'"
     ]
    }
   ],
   "source": [
    "print(pathlib.Path.exists(dir_file))   #경로를 str로 넘겨주기 때문에 에러가 남"
   ]
  },
  {
   "cell_type": "code",
   "execution_count": 9,
   "metadata": {},
   "outputs": [
    {
     "name": "stdout",
     "output_type": "stream",
     "text": [
      "True\n"
     ]
    }
   ],
   "source": [
    "print(pathlib.Path.exists(pathlib.Path(dir_file))) #pathlib.Path()가 dir_file을 객체화 시켜준다."
   ]
  },
  {
   "cell_type": "code",
   "execution_count": 14,
   "metadata": {},
   "outputs": [],
   "source": [
    "dir_os = r'C:\\Users\\eoyeo\\Desktop\\fastcampus\\os\\새폴더'\n",
    "dir_pathlib = pathlib.Path(r'C:\\Users\\eoyeo\\Desktop\\fastcampus\\pathlib\\새폴더')"
   ]
  },
  {
   "cell_type": "code",
   "execution_count": 15,
   "metadata": {},
   "outputs": [],
   "source": [
    "#경로에 디렉토리가 존재하지 않으면 디렉토리를 만들어라\n",
    "if not os.path.exists(dir_os):\n",
    "    os.makedirs(dir_os)"
   ]
  },
  {
   "cell_type": "code",
   "execution_count": 16,
   "metadata": {},
   "outputs": [],
   "source": [
    "dir_pathlib.mkdir(parents=True, exist_ok=True) #parents: True이면 부모 폴더가 존재하지 않을 시 부모 폴더도 만들어준다\n",
    "                                                #exist_ok : True 이면 경로에 디렉토리가 없을 때 만든다"
   ]
  },
  {
   "cell_type": "code",
   "execution_count": 17,
   "metadata": {},
   "outputs": [],
   "source": [
    "dir_file = r'C:\\Users\\eoyeo\\Desktop\\패스트캠퍼스-파이썬\\달력만들기'"
   ]
  },
  {
   "cell_type": "code",
   "execution_count": 18,
   "metadata": {},
   "outputs": [
    {
     "name": "stdout",
     "output_type": "stream",
     "text": [
      "['calender.ipynb', 'datetime.ipynb', 'dateutil_time.ipynb', 'isleap.ipynb', 'strptime_strtime.ipynb']\n"
     ]
    }
   ],
   "source": [
    "print(os.listdir(dir_file)) #디렉토리 안 파일 확인"
   ]
  },
  {
   "cell_type": "code",
   "execution_count": 19,
   "metadata": {},
   "outputs": [
    {
     "name": "stdout",
     "output_type": "stream",
     "text": [
      "calender.ipynb\n"
     ]
    }
   ],
   "source": [
    "print(os.listdir(dir_file)[0]) #첫번째 파일을 확인"
   ]
  },
  {
   "cell_type": "code",
   "execution_count": 20,
   "metadata": {},
   "outputs": [
    {
     "name": "stdout",
     "output_type": "stream",
     "text": [
      "calender.ipynb\n"
     ]
    }
   ],
   "source": [
    "print(pathlib.PurePath(os.listdir(dir_file)[0]).name)"
   ]
  },
  {
   "cell_type": "code",
   "execution_count": 21,
   "metadata": {},
   "outputs": [
    {
     "name": "stdout",
     "output_type": "stream",
     "text": [
      "C:\\Users\\eoyeo\\Desktop\\패스트캠퍼스-파이썬\n"
     ]
    }
   ],
   "source": [
    "print(os.path.dirname(dir_file)) #부모 경로 확인"
   ]
  },
  {
   "cell_type": "code",
   "execution_count": 22,
   "metadata": {},
   "outputs": [
    {
     "name": "stdout",
     "output_type": "stream",
     "text": [
      "C:\\Users\\eoyeo\\Desktop\\패스트캠퍼스-파이썬\n"
     ]
    }
   ],
   "source": [
    "print(pathlib.PurePath(dir_file).parent)"
   ]
  },
  {
   "cell_type": "code",
   "execution_count": 23,
   "metadata": {},
   "outputs": [
    {
     "name": "stdout",
     "output_type": "stream",
     "text": [
      "C:\\Users\\eoyeo\\Desktop\\패스트캠퍼스-파이썬\\달력만들기\\os\n"
     ]
    }
   ],
   "source": [
    "print(os.path.join(dir_file, 'os'))  #경로 연결"
   ]
  },
  {
   "cell_type": "code",
   "execution_count": 24,
   "metadata": {},
   "outputs": [
    {
     "name": "stdout",
     "output_type": "stream",
     "text": [
      "C:\\Users\\eoyeo\\Desktop\\패스트캠퍼스-파이썬\\os\n"
     ]
    }
   ],
   "source": [
    "print(os.path.join(os.path.dirname(dir_file), 'os'))"
   ]
  },
  {
   "cell_type": "code",
   "execution_count": 25,
   "metadata": {},
   "outputs": [
    {
     "name": "stdout",
     "output_type": "stream",
     "text": [
      "C:\\Users\\eoyeo\\Desktop\\패스트캠퍼스-파이썬\\달력만들기\\pathlib\n"
     ]
    }
   ],
   "source": [
    "print(pathlib.PurePath(dir_file).joinpath('pathlib'))"
   ]
  },
  {
   "cell_type": "code",
   "execution_count": 26,
   "metadata": {},
   "outputs": [
    {
     "name": "stdout",
     "output_type": "stream",
     "text": [
      "C:\\Users\\eoyeo\\Desktop\\패스트캠퍼스-파이썬\\pathlib\n"
     ]
    }
   ],
   "source": [
    "print(pathlib.PurePath(pathlib.PurePath(dir_file).parent).joinpath('pathlib'))"
   ]
  },
  {
   "cell_type": "code",
   "execution_count": 27,
   "metadata": {},
   "outputs": [
    {
     "name": "stdout",
     "output_type": "stream",
     "text": [
      "C:\\Users\\eoyeo\\Desktop\\pathlib\n"
     ]
    }
   ],
   "source": [
    "print(pathlib.PurePath(pathlib.PurePath(dir_file).parent.parent).joinpath('pathlib')) #parent를 계속 붙여주면 계속 상위로 올라간다"
   ]
  },
  {
   "cell_type": "code",
   "execution_count": 28,
   "metadata": {},
   "outputs": [
    {
     "name": "stdout",
     "output_type": "stream",
     "text": [
      "calender.ipynb\n"
     ]
    }
   ],
   "source": [
    "file_path = os.path.basename(os.listdir(dir_file)[0])  #basename은 앞에 경로를 제외하고 파일명(확장자를 포함한)을 가지고 오는 것\n",
    "print(file_path)"
   ]
  },
  {
   "cell_type": "code",
   "execution_count": 29,
   "metadata": {},
   "outputs": [
    {
     "name": "stdout",
     "output_type": "stream",
     "text": [
      "('calender', '.ipynb')\n"
     ]
    }
   ],
   "source": [
    "print(os.path.splitext(file_path)) #파일명과 확장자를 분리해준다"
   ]
  },
  {
   "cell_type": "code",
   "execution_count": null,
   "metadata": {},
   "outputs": [],
   "source": []
  }
 ],
 "metadata": {
  "kernelspec": {
   "display_name": "Python 3",
   "language": "python",
   "name": "python3"
  },
  "language_info": {
   "codemirror_mode": {
    "name": "ipython",
    "version": 3
   },
   "file_extension": ".py",
   "mimetype": "text/x-python",
   "name": "python",
   "nbconvert_exporter": "python",
   "pygments_lexer": "ipython3",
   "version": "3.8.10"
  },
  "orig_nbformat": 4
 },
 "nbformat": 4,
 "nbformat_minor": 2
}
